{
  "nbformat": 4,
  "nbformat_minor": 0,
  "metadata": {
    "colab": {
      "provenance": []
    },
    "kernelspec": {
      "name": "python3",
      "display_name": "Python 3"
    },
    "language_info": {
      "name": "python"
    }
  },
  "cells": [
    {
      "cell_type": "code",
      "source": [
        "!pip install ultralytics"
      ],
      "metadata": {
        "id": "Hvaamf5vuZ05"
      },
      "execution_count": null,
      "outputs": []
    },
    {
      "cell_type": "code",
      "source": [
        "#Dataset download link: https://universe.roboflow.com/hari-i4xuq/license_plate-2-wheeler\n"
      ],
      "metadata": {
        "id": "KLT5loBs8NDC"
      },
      "execution_count": 1,
      "outputs": []
    },
    {
      "cell_type": "code",
      "execution_count": null,
      "metadata": {
        "id": "GDmmNvU6mjr5"
      },
      "outputs": [],
      "source": [
        "!pip install ultralytics"
      ]
    },
    {
      "cell_type": "code",
      "source": [
        "from ultralytics import YOLO\n"
      ],
      "metadata": {
        "id": "mKeFBt82x89m"
      },
      "execution_count": null,
      "outputs": []
    },
    {
      "cell_type": "code",
      "source": [
        "\n",
        "model = YOLO(\"Your-path-to-model.pt-file\")\n",
        "model.train(data = \"path-to-data.yaml-file\", imgsz = 640, batch = 16, epochs = 30, workers = 0, device = 0)"
      ],
      "metadata": {
        "id": "gPxJ2JcD8ijc"
      },
      "execution_count": null,
      "outputs": []
    }
  ]
}